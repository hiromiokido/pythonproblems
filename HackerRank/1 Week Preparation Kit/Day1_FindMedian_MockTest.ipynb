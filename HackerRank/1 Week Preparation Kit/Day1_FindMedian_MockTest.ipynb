{
 "cells": [
  {
   "cell_type": "code",
   "execution_count": 20,
   "metadata": {},
   "outputs": [
    {
     "name": "stdout",
     "output_type": "stream",
     "text": [
      "3\n"
     ]
    }
   ],
   "source": [
    "#!/bin/python3\n",
    "\n",
    "import math\n",
    "import os\n",
    "import random\n",
    "import re\n",
    "import sys\n",
    "\n",
    "#\n",
    "# Complete the 'findMedian' function below.\n",
    "#\n",
    "# The function is expected to return an INTEGER.\n",
    "# The function accepts INTEGER_ARRAY arr as parameter.\n",
    "# n = 7\n",
    "# 0 1 2 4 6 5 3 (resultado = 3)\n",
    "# 1 3 3 6 7 8 9 (resultado = 6)\n",
    "\n",
    "def findMedian(arr):\n",
    "\n",
    "    array = []\n",
    "\n",
    "    try:\n",
    "        if (n % 2 != 0):\n",
    "            if (n >= 1) & (n <= 1000001):\n",
    "                pass\n",
    "            else:\n",
    "                raise StopIteration\n",
    "        else:\n",
    "            raise StopIteration\n",
    "    except StopIteration:\n",
    "        return\n",
    "\n",
    "    for value in arr:\n",
    "        try:\n",
    "            if (value >= -10000) & (value <= 10000):\n",
    "                array.append(value)\n",
    "            else:\n",
    "                raise StopIteration\n",
    "        except StopIteration:\n",
    "            return\n",
    "    \n",
    "    array.sort()\n",
    "    \n",
    "    median = array[int(n/2)]\n",
    "    return median\n",
    "\n",
    "if __name__ == '__main__':\n",
    "    # fptr = open(os.environ['OUTPUT_PATH'], 'w')\n",
    "\n",
    "    n = int(input().strip())\n",
    "\n",
    "    arr = list(map(int, input().rstrip().split()))\n",
    "\n",
    "    result = findMedian(arr)\n",
    "    print(result)\n",
    "\n",
    "    # fptr.write(str(result) + '\\n')\n",
    "    # fptr.close()\n"
   ]
  }
 ],
 "metadata": {
  "kernelspec": {
   "display_name": "Python 3",
   "language": "python",
   "name": "python3"
  },
  "language_info": {
   "codemirror_mode": {
    "name": "ipython",
    "version": 3
   },
   "file_extension": ".py",
   "mimetype": "text/x-python",
   "name": "python",
   "nbconvert_exporter": "python",
   "pygments_lexer": "ipython3",
   "version": "3.11.5"
  },
  "orig_nbformat": 4
 },
 "nbformat": 4,
 "nbformat_minor": 2
}
