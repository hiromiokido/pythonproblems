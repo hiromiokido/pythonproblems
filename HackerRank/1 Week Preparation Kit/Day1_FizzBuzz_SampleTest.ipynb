{
 "cells": [
  {
   "cell_type": "code",
   "execution_count": 27,
   "metadata": {},
   "outputs": [
    {
     "name": "stdout",
     "output_type": "stream",
     "text": [
      "1\n",
      "2\n",
      "Fizz\n",
      "4\n",
      "Buzz\n",
      "Fizz\n",
      "7\n",
      "8\n",
      "Fizz\n",
      "Buzz\n",
      "11\n",
      "Fizz\n",
      "13\n",
      "14\n",
      "FizzBuzz\n"
     ]
    }
   ],
   "source": [
    "#!/bin/python3\n",
    "\n",
    "import math\n",
    "import os\n",
    "import random\n",
    "import re\n",
    "import sys\n",
    "\n",
    "#\n",
    "# Complete the 'fizzBuzz' function below.\n",
    "#\n",
    "# The function accepts INTEGER n as parameter.\n",
    "# n = 15\n",
    "\n",
    "def fizzBuzz(n):    \n",
    "    \n",
    "    try:\n",
    "        if n > 0:\n",
    "            for i in range(0,n):\n",
    "                if ((i+1) % 3 == 0) & ((i+1) % 5 == 0):\n",
    "                    print(\"FizzBuzz\")\n",
    "                elif ((i+1) % 3 == 0) & ((i+1) % 5 != 0):\n",
    "                    print(\"Fizz\")\n",
    "                elif ((i+1) % 3 != 0) & ((i+1) % 5 == 0):\n",
    "                    print(\"Buzz\")\n",
    "                else:\n",
    "                    print(i+1)\n",
    "        else:\n",
    "            raise StopIteration\n",
    "    except StopIteration:\n",
    "        return\n",
    "        \n",
    "if __name__ == '__main__':\n",
    "    n = int(input().strip())\n",
    "\n",
    "    fizzBuzz(n)\n"
   ]
  }
 ],
 "metadata": {
  "kernelspec": {
   "display_name": "Python 3",
   "language": "python",
   "name": "python3"
  },
  "language_info": {
   "codemirror_mode": {
    "name": "ipython",
    "version": 3
   },
   "file_extension": ".py",
   "mimetype": "text/x-python",
   "name": "python",
   "nbconvert_exporter": "python",
   "pygments_lexer": "ipython3",
   "version": "3.11.5"
  },
  "orig_nbformat": 4
 },
 "nbformat": 4,
 "nbformat_minor": 2
}
