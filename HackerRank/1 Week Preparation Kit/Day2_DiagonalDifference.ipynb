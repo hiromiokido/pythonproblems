{
 "cells": [
  {
   "cell_type": "code",
   "execution_count": 112,
   "metadata": {},
   "outputs": [
    {
     "name": "stdout",
     "output_type": "stream",
     "text": [
      "Sum across the primary diagonal: 15\n",
      "Sum across the secondary diagonal: 17\n",
      "Result: 2\n"
     ]
    }
   ],
   "source": [
    "def diagonalDifference(arr):\n",
    "\n",
    "    primaryDiagonal = []\n",
    "    secondaryDiagonal = []\n",
    "\n",
    "    # for index_line, line in enumerate(arr):\n",
    "    #     for index_column, column in enumerate(line):\n",
    "    #         # leitura da diagonal principal\n",
    "    #         if index_line == index_column:\n",
    "    #             primaryDiagonal.append(column)\n",
    "\n",
    "    for index in range(n):\n",
    "        primaryDiagonal.append(arr[index][index])\n",
    "        secondaryDiagonal.append(arr[index][n - 1 - index])\n",
    "\n",
    "    sumPrimaryDiagonal = sum(primaryDiagonal)\n",
    "    print(f\"Sum across the primary diagonal: {sumPrimaryDiagonal}\")\n",
    "\n",
    "    sumSecondaryDiagonal = sum(secondaryDiagonal)\n",
    "    print(f\"Sum across the secondary diagonal: {sumSecondaryDiagonal}\")\n",
    "\n",
    "    absoluteDifference = abs(sumPrimaryDiagonal - sumSecondaryDiagonal)\n",
    "\n",
    "    return absoluteDifference\n",
    "\n",
    "\n",
    "if __name__ == '__main__':\n",
    "    \n",
    "    # fptr = open(os.environ['OUTPUT_PATH'], 'w')\n",
    "\n",
    "    n = int(input().strip())\n",
    "\n",
    "    arr = []\n",
    "\n",
    "    for _ in range(n):\n",
    "        arr.append(list(map(int, input().rstrip().split())))\n",
    "\n",
    "    result = diagonalDifference(arr)\n",
    "    print(f\"Result: {result}\")\n",
    "\n",
    "    # fptr.write(str(result) + '\\n')\n",
    "\n",
    "    # fptr.close()"
   ]
  },
  {
   "cell_type": "code",
   "execution_count": 19,
   "metadata": {},
   "outputs": [
    {
     "data": {
      "text/plain": [
       "[[1, 2, 3], [4, 5, 6], [9, 8, 9]]"
      ]
     },
     "execution_count": 19,
     "metadata": {},
     "output_type": "execute_result"
    }
   ],
   "source": [
    "n = int(input().strip())\n",
    "\n",
    "arr = []\n",
    "\n",
    "for _ in range(n):\n",
    "    arr.append(list(map(int, input().rstrip().split())))\n",
    "\n",
    "arr"
   ]
  },
  {
   "cell_type": "code",
   "execution_count": 85,
   "metadata": {},
   "outputs": [
    {
     "name": "stdout",
     "output_type": "stream",
     "text": [
      "index_line 0 linha [1, 2, 3]\n",
      "index_column 0 value 1\n",
      "index_column 1 value 2\n",
      "index_column 2 value 3\n",
      "\n",
      "index_line 1 linha [4, 5, 6]\n",
      "index_column 0 value 4\n",
      "index_column 1 value 5\n",
      "index_column 2 value 6\n",
      "\n",
      "index_line 2 linha [9, 8, 9]\n",
      "index_column 0 value 9\n",
      "index_column 1 value 8\n",
      "index_column 2 value 9\n",
      "\n"
     ]
    }
   ],
   "source": [
    "for index_line, line in enumerate(arr):\n",
    "    print(f\"index_line {index_line} linha {line}\")\n",
    "\n",
    "    for index_column, column in enumerate(line):\n",
    "        print(f\"index_column {index_column} value {line[index_column]}\")\n",
    "    print()\n"
   ]
  },
  {
   "cell_type": "code",
   "execution_count": 107,
   "metadata": {},
   "outputs": [
    {
     "name": "stdout",
     "output_type": "stream",
     "text": [
      "[1, 5, 9]\n",
      "15\n",
      "[3, 5, 9]\n",
      "17\n"
     ]
    }
   ],
   "source": [
    "diagonalPrincipal = []\n",
    "secondaryDiagonal = []\n",
    "\n",
    "for index_line, line in enumerate(arr):\n",
    "    for index_column, column in enumerate(line):\n",
    "        if index_line == index_column:\n",
    "            diagonalPrincipal.append(column)\n",
    "\n",
    "for index in range(n):\n",
    "    secondaryDiagonal.append(arr[index][n - 1 - index])\n",
    "\n",
    "print(diagonalPrincipal)\n",
    "print(sum(diagonalPrincipal))\n",
    "print(secondaryDiagonal)\n",
    "print(sum(secondaryDiagonal))"
   ]
  },
  {
   "cell_type": "code",
   "execution_count": 110,
   "metadata": {},
   "outputs": [
    {
     "name": "stdout",
     "output_type": "stream",
     "text": [
      "1\n",
      "5\n",
      "9\n"
     ]
    }
   ],
   "source": [
    "for index in range(n):\n",
    "    print(arr[index][index])"
   ]
  },
  {
   "cell_type": "markdown",
   "metadata": {},
   "source": [
    "# Versão final depois dos testes"
   ]
  },
  {
   "cell_type": "code",
   "execution_count": null,
   "metadata": {},
   "outputs": [],
   "source": [
    "#!/bin/python3\n",
    "\n",
    "import math\n",
    "import os\n",
    "import random\n",
    "import re\n",
    "import sys\n",
    "\n",
    "#\n",
    "# Complete the 'diagonalDifference' function below.\n",
    "#\n",
    "# The function is expected to return an INTEGER.\n",
    "# The function accepts 2D_INTEGER_ARRAY arr as parameter.\n",
    "#\n",
    "\n",
    "def diagonalDifference(arr):\n",
    "\n",
    "    primaryDiagonal = []\n",
    "    secondaryDiagonal = []\n",
    "\n",
    "    for index in range(n):\n",
    "        primaryDiagonal.append(arr[index][index])\n",
    "        secondaryDiagonal.append(arr[index][n - 1 - index])\n",
    "\n",
    "    sumPrimaryDiagonal = sum(primaryDiagonal)\n",
    "    sumSecondaryDiagonal = sum(secondaryDiagonal)\n",
    "\n",
    "    absoluteDifference = abs(sumPrimaryDiagonal - sumSecondaryDiagonal)\n",
    "\n",
    "    return absoluteDifference\n",
    "\n",
    "\n",
    "if __name__ == '__main__':\n",
    "    # fptr = open(os.environ['OUTPUT_PATH'], 'w')\n",
    "\n",
    "    n = int(input().strip())\n",
    "\n",
    "    arr = []\n",
    "\n",
    "    for _ in range(n):\n",
    "        arr.append(list(map(int, input().rstrip().split())))\n",
    "\n",
    "    result = diagonalDifference(arr)\n",
    "\n",
    "    # fptr.write(str(result) + '\\n')\n",
    "\n",
    "    # fptr.close()\n"
   ]
  }
 ],
 "metadata": {
  "kernelspec": {
   "display_name": "Python 3",
   "language": "python",
   "name": "python3"
  },
  "language_info": {
   "codemirror_mode": {
    "name": "ipython",
    "version": 3
   },
   "file_extension": ".py",
   "mimetype": "text/x-python",
   "name": "python",
   "nbconvert_exporter": "python",
   "pygments_lexer": "ipython3",
   "version": "3.11.5"
  },
  "orig_nbformat": 4
 },
 "nbformat": 4,
 "nbformat_minor": 2
}
